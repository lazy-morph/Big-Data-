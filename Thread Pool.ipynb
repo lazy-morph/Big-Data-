{
 "cells": [
  {
   "cell_type": "code",
   "execution_count": 1,
   "metadata": {},
   "outputs": [],
   "source": [
    "import threading\n",
    "from pyspark.sql import SQLContext\n",
    "\n",
    "sqlContx = SQLContext(sc)\n",
    "\n",
    "file = sc.textFile(\"/home/shivam/intern/bible.txt\")\n",
    "\n",
    "def wordCount(file):\n",
    "    wordCounts = file.map(lambda word:(word,1)).reduceByKey(lambda v1,v2:v1+v2).toDF([\"Word\",\"Count\"])\n",
    "    wordCounts.write.mode(\"overwrite\").parquet(\"/home/shivam/intern/wordcount\")\n",
    "\n",
    "    \n",
    "def charCount(file):\n",
    "    wordCounts = file.map(lambda word:(word,1)).reduceByKey(lambda v1,v2:v1+v2)\n",
    "    charCounts = wordCounts.flatMap(lambda pair:pair[0]).map(lambda c: c).map(lambda c: (c, 1)).reduceByKey(lambda v1,v2:v1 +v2).toDF()\n",
    "    charCounts.write.mode(\"overwrite\").parquet(\"/home/shivam/intern/charcount\")\n",
    "    \n",
    "    \n",
    "T1 = threading.Thread(target=wordCount, args=(file,))\n",
    "T2 = threading.Thread(target=charCount, args=(file,))\n",
    "\n",
    "\n",
    "T1.start()\n",
    "T2.start()\n",
    "\n",
    "\n",
    "T1.join()\n",
    "T2.join()\n",
    "    "
   ]
  },
  {
   "cell_type": "code",
   "execution_count": null,
   "metadata": {},
   "outputs": [],
   "source": []
  }
 ],
 "metadata": {
  "kernelspec": {
   "display_name": "Python 3",
   "language": "python",
   "name": "python3"
  },
  "language_info": {
   "codemirror_mode": {
    "name": "ipython",
    "version": 3
   },
   "file_extension": ".py",
   "mimetype": "text/x-python",
   "name": "python",
   "nbconvert_exporter": "python",
   "pygments_lexer": "ipython3",
   "version": "3.7.6"
  }
 },
 "nbformat": 4,
 "nbformat_minor": 4
}
