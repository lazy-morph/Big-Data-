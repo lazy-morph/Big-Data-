{
 "cells": [
  {
   "cell_type": "code",
   "execution_count": 3,
   "metadata": {},
   "outputs": [],
   "source": [
    "from pyspark.sql import SQLContext as sq"
   ]
  },
  {
   "cell_type": "code",
   "execution_count": 7,
   "metadata": {},
   "outputs": [],
   "source": [
    "data = spark.read.json(\"/home/shivam/intern/rev.json\").select(\"overall\",\"reviewText\")"
   ]
  },
  {
   "cell_type": "code",
   "execution_count": 9,
   "metadata": {},
   "outputs": [],
   "source": [
    "df = data.withColumn(\"overint\",data[\"overall\"].cast(\"Int\"))"
   ]
  },
  {
   "cell_type": "code",
   "execution_count": 10,
   "metadata": {},
   "outputs": [
    {
     "name": "stdout",
     "output_type": "stream",
     "text": [
      "root\n",
      " |-- overall: double (nullable = true)\n",
      " |-- reviewText: string (nullable = true)\n",
      " |-- overint: integer (nullable = true)\n",
      "\n"
     ]
    }
   ],
   "source": [
    "df.printSchema()"
   ]
  },
  {
   "cell_type": "code",
   "execution_count": 11,
   "metadata": {},
   "outputs": [],
   "source": [
    "df = df.select(\"overint\",\"reviewText\")"
   ]
  },
  {
   "cell_type": "code",
   "execution_count": 14,
   "metadata": {},
   "outputs": [],
   "source": [
    "dfRDD = df.rdd"
   ]
  },
  {
   "cell_type": "code",
   "execution_count": 29,
   "metadata": {},
   "outputs": [
    {
     "name": "stdout",
     "output_type": "stream",
     "text": [
      "+-------+--------------------+\n",
      "|overint|          reviewText|\n",
      "+-------+--------------------+\n",
      "|      5|This came in on t...|\n",
      "|      5|I had a factory G...|\n",
      "|      4|If you don't have...|\n",
      "|      4|This works no bet...|\n",
      "|      4|I purchased this ...|\n",
      "|      5|Needed this tool ...|\n",
      "|      5|If u don't have i...|\n",
      "|      4|This light will n...|\n",
      "|      5|Light and laser t...|\n",
      "|      5|Does everything i...|\n",
      "|      4|Very bright.  I w...|\n",
      "|      3|It's cheaply made...|\n",
      "|      5|Mine arrived with...|\n",
      "|      4|It works great it...|\n",
      "|      5|I love this light...|\n",
      "|      5|Bit bulky. One bu...|\n",
      "|      5|it is bright and ...|\n",
      "|      4|A mice bright lig...|\n",
      "|      4|Had one ride on t...|\n",
      "|      2|So it worked well...|\n",
      "+-------+--------------------+\n",
      "only showing top 20 rows\n",
      "\n"
     ]
    }
   ],
   "source": [
    "df.show()"
   ]
  },
  {
   "cell_type": "code",
   "execution_count": 33,
   "metadata": {},
   "outputs": [
    {
     "data": {
      "text/plain": [
       "PythonRDD[43] at RDD at PythonRDD.scala:53"
      ]
     },
     "execution_count": 33,
     "metadata": {},
     "output_type": "execute_result"
    }
   ],
   "source": [
    "dfRDD.map(lambda r : (r[0],r))"
   ]
  },
  {
   "cell_type": "code",
   "execution_count": 34,
   "metadata": {},
   "outputs": [
    {
     "data": {
      "text/plain": [
       "['This came in on time and I am veru happy with it, I haved used it already and it makes taking out the pins in my glock 32 very easy',\n",
       " \"I had a factory Glock tool that I was using for my Glock 26, 27, and 17.  I've since lost it and had needed another.  Since I've used Ghost products prior, and know that they are reliable, I had decided to order this one.  Sure enough, this is just as good as a factory tool.\",\n",
       " \"Needed this tool to really break down my G22, and it works perfectly for that. No difference from OEM I suspect.However, had an added bonus when realizing that I needed a punch to properly disassemble the bolt carrier in my AR for a thorough cleaning, and this tool worked perfectly to push the carrier's retaining pin out and then back into place after the job was completed. Excellent! It is now in my range bag for safe keeping.\",\n",
       " \"If u don't have it .. Get it. All you need to completely take down your glock. Any model any gen.\",\n",
       " 'Light and laser torch work well, very bright. Just installed on trike, had it a week, but seems to be well built. Only time will tell.']"
      ]
     },
     "execution_count": 34,
     "metadata": {},
     "output_type": "execute_result"
    }
   ],
   "source": [
    "dfRDD.take(5)"
   ]
  },
  {
   "cell_type": "code",
   "execution_count": 16,
   "metadata": {},
   "outputs": [],
   "source": [
    "n = 5\n",
    "\n",
    "def partitioner(key):\n",
    "    if(key % n == 1):\n",
    "        return 1\n",
    "    elif(key % n == 2):\n",
    "        return 2\n",
    "    elif(key % n == 3):\n",
    "        return 3\n",
    "    elif(key % n == 4):\n",
    "        return 4\n",
    "    else:\n",
    "        return 5\n",
    "    \n",
    "    \n",
    "dfRDD = dfRDD.partitionBy(n,partitioner)"
   ]
  },
  {
   "cell_type": "code",
   "execution_count": 30,
   "metadata": {},
   "outputs": [],
   "source": [
    "dfRDD = dfRDD.map(lambda r : r)"
   ]
  },
  {
   "cell_type": "code",
   "execution_count": 31,
   "metadata": {},
   "outputs": [
    {
     "data": {
      "text/plain": [
       "5"
      ]
     },
     "execution_count": 31,
     "metadata": {},
     "output_type": "execute_result"
    }
   ],
   "source": [
    "dfRDD.getNumPartitions()"
   ]
  },
  {
   "cell_type": "code",
   "execution_count": 32,
   "metadata": {},
   "outputs": [
    {
     "data": {
      "text/plain": [
       "[366496, 16789, 19587, 45818, 122647]"
      ]
     },
     "execution_count": 32,
     "metadata": {},
     "output_type": "execute_result"
    }
   ],
   "source": [
    "dfRDD.glom().map(len).collect()"
   ]
  },
  {
   "cell_type": "code",
   "execution_count": 24,
   "metadata": {},
   "outputs": [
    {
     "ename": "AttributeError",
     "evalue": "'PipelinedRDD' object has no attribute 'write'",
     "output_type": "error",
     "traceback": [
      "\u001b[0;31m---------------------------------------------------------------------------\u001b[0m",
      "\u001b[0;31mAttributeError\u001b[0m                            Traceback (most recent call last)",
      "\u001b[0;32m<ipython-input-24-09d5c7243eee>\u001b[0m in \u001b[0;36m<module>\u001b[0;34m\u001b[0m\n\u001b[0;32m----> 1\u001b[0;31m \u001b[0mdfRDD\u001b[0m\u001b[0;34m.\u001b[0m\u001b[0mwrite\u001b[0m\u001b[0;34m.\u001b[0m\u001b[0mmode\u001b[0m\u001b[0;34m(\u001b[0m\u001b[0;34m\"overwrite\"\u001b[0m\u001b[0;34m)\u001b[0m\u001b[0;34m.\u001b[0m\u001b[0mjson\u001b[0m\u001b[0;34m(\u001b[0m\u001b[0;34m\"/home/shivam/intern/partition\"\u001b[0m\u001b[0;34m)\u001b[0m\u001b[0;34m\u001b[0m\u001b[0;34m\u001b[0m\u001b[0m\n\u001b[0m",
      "\u001b[0;31mAttributeError\u001b[0m: 'PipelinedRDD' object has no attribute 'write'"
     ]
    }
   ],
   "source": [
    "dfRDD.write.mode(\"overwrite\").json(\"/home/shivam/intern/partition\")"
   ]
  },
  {
   "cell_type": "code",
   "execution_count": 25,
   "metadata": {},
   "outputs": [
    {
     "data": {
      "text/plain": [
       "['This came in on time and I am veru happy with it, I haved used it already and it makes taking out the pins in my glock 32 very easy',\n",
       " \"I had a factory Glock tool that I was using for my Glock 26, 27, and 17.  I've since lost it and had needed another.  Since I've used Ghost products prior, and know that they are reliable, I had decided to order this one.  Sure enough, this is just as good as a factory tool.\",\n",
       " \"Needed this tool to really break down my G22, and it works perfectly for that. No difference from OEM I suspect.However, had an added bonus when realizing that I needed a punch to properly disassemble the bolt carrier in my AR for a thorough cleaning, and this tool worked perfectly to push the carrier's retaining pin out and then back into place after the job was completed. Excellent! It is now in my range bag for safe keeping.\",\n",
       " \"If u don't have it .. Get it. All you need to completely take down your glock. Any model any gen.\",\n",
       " 'Light and laser torch work well, very bright. Just installed on trike, had it a week, but seems to be well built. Only time will tell.']"
      ]
     },
     "execution_count": 25,
     "metadata": {},
     "output_type": "execute_result"
    }
   ],
   "source": [
    "dfRDD.take(5)"
   ]
  },
  {
   "cell_type": "code",
   "execution_count": null,
   "metadata": {},
   "outputs": [],
   "source": []
  }
 ],
 "metadata": {
  "kernelspec": {
   "display_name": "Python 3",
   "language": "python",
   "name": "python3"
  },
  "language_info": {
   "codemirror_mode": {
    "name": "ipython",
    "version": 3
   },
   "file_extension": ".py",
   "mimetype": "text/x-python",
   "name": "python",
   "nbconvert_exporter": "python",
   "pygments_lexer": "ipython3",
   "version": "3.7.6"
  }
 },
 "nbformat": 4,
 "nbformat_minor": 4
}
