{
 "cells": [
  {
   "cell_type": "code",
   "execution_count": 1,
   "metadata": {},
   "outputs": [],
   "source": [
    "import threading\n",
    "\n",
    "import findspark\n",
    "findspark.init()\n",
    "\n",
    "import pyspark\n",
    "\n",
    "from pyspark.sql import SparkSession\n",
    "spark = SparkSession.builder.appName(\"Partition Run\").getOrCreate()"
   ]
  },
  {
   "cell_type": "code",
   "execution_count": 2,
   "metadata": {},
   "outputs": [],
   "source": [
    "class Sentiment:\n",
    "    Positive = \"Positive\"\n",
    "    Negative = \"Negative\"\n",
    "    Neutral = \"Neutral\"\n",
    "\n",
    "class Review:\n",
    "    def __init__(self,text,score):\n",
    "        self.text = text\n",
    "        self.score = score\n",
    "        self.sentiment = self.getSentiment()\n",
    "        \n",
    "    def getSentiment(self):\n",
    "        if (self.score <= 2):\n",
    "            return Sentiment.Negative\n",
    "        elif self.score == 3:\n",
    "            return Sentiment.Neutral\n",
    "        else:\n",
    "            return Sentiment.Positive"
   ]
  },
  {
   "cell_type": "code",
   "execution_count": 3,
   "metadata": {},
   "outputs": [],
   "source": [
    "data = spark.read.json(\"/home/shivam/intern/rev.json\").select(\"overall\",\"reviewText\")\n",
    "df = data.withColumn(\"overint\",data[\"overall\"].cast(\"Int\"))\n",
    "df = df.select(\"overint\",\"reviewText\")"
   ]
  },
  {
   "cell_type": "code",
   "execution_count": 4,
   "metadata": {},
   "outputs": [],
   "source": [
    "d = df.rdd.map(lambda r : (r[0],r))"
   ]
  },
  {
   "cell_type": "code",
   "execution_count": 5,
   "metadata": {},
   "outputs": [],
   "source": [
    "n = 5\n",
    "\n",
    "def partitioner(key):\n",
    "    if(key % n == 1):\n",
    "        return 1\n",
    "    elif(key % n == 2):\n",
    "        return 2\n",
    "    elif(key % n == 3):\n",
    "        return 3\n",
    "    elif(key % n == 4):\n",
    "        return 4\n",
    "    else:\n",
    "        return 0\n",
    "    \n",
    "    \n",
    "dfRDD = d.partitionBy(n,partitioner)"
   ]
  },
  {
   "cell_type": "code",
   "execution_count": 6,
   "metadata": {},
   "outputs": [],
   "source": [
    "dRDD = dfRDD.map(lambda r : r[1])"
   ]
  },
  {
   "cell_type": "code",
   "execution_count": 7,
   "metadata": {},
   "outputs": [
    {
     "data": {
      "text/plain": [
       "[366496, 16789, 19587, 45818, 122647]"
      ]
     },
     "execution_count": 7,
     "metadata": {},
     "output_type": "execute_result"
    }
   ],
   "source": [
    "dRDD.glom().map(len).collect()"
   ]
  },
  {
   "cell_type": "code",
   "execution_count": 7,
   "metadata": {},
   "outputs": [],
   "source": [
    "dat = dRDD.toDF()"
   ]
  },
  {
   "cell_type": "code",
   "execution_count": 24,
   "metadata": {},
   "outputs": [],
   "source": [
    "dat.write.mode(\"overwrite\").json(\"/home/shivam/intern/partition\")"
   ]
  },
  {
   "cell_type": "code",
   "execution_count": 8,
   "metadata": {},
   "outputs": [],
   "source": [
    "import json\n",
    "\n",
    "part0 = \"/home/shivam/intern/partition/part-00000-b9624116-91df-4aaa-b88a-04b66e6c4e74-c000.json\"\n",
    "\n",
    "reviews1 = []\n",
    "with open(part0) as p0:\n",
    "    for line in p0:\n",
    "        review = json.loads(line)\n",
    "        reviews1.append(Review(review['reviewText'],review['overint']))"
   ]
  },
  {
   "cell_type": "code",
   "execution_count": 29,
   "metadata": {},
   "outputs": [
    {
     "data": {
      "text/plain": [
       "\"Bought this for my son's 20 in mountain bike and it didn't fit.  No problem I thought, I'll use it on my wife's bike, or my bike.  It didn't fit those either.  Seems to be made for a specific application, not universal at all.\""
      ]
     },
     "execution_count": 29,
     "metadata": {},
     "output_type": "execute_result"
    }
   ],
   "source": [
    "reviews2[16788].text\n",
    "\n"
   ]
  },
  {
   "cell_type": "code",
   "execution_count": 9,
   "metadata": {},
   "outputs": [],
   "source": [
    "import json\n",
    "\n",
    "part1 = \"/home/shivam/intern/partition/part-00001-b9624116-91df-4aaa-b88a-04b66e6c4e74-c000.json\"\n",
    "\n",
    "reviews2 = []\n",
    "with open(part1) as p1:\n",
    "    for line in p1:\n",
    "        review = json.loads(line)\n",
    "        reviews2.append(Review(review['reviewText'],review['overint']))"
   ]
  },
  {
   "cell_type": "code",
   "execution_count": 10,
   "metadata": {},
   "outputs": [],
   "source": [
    "import json\n",
    "\n",
    "part2 = \"/home/shivam/intern/partition/part-00002-b9624116-91df-4aaa-b88a-04b66e6c4e74-c000.json\"\n",
    "\n",
    "reviews3 = []\n",
    "with open(part2) as p2:\n",
    "    for line in p2:\n",
    "        review = json.loads(line)\n",
    "        reviews3.append(Review(review['reviewText'],review['overint']))"
   ]
  },
  {
   "cell_type": "code",
   "execution_count": 11,
   "metadata": {},
   "outputs": [],
   "source": [
    "import json\n",
    "\n",
    "part3 = \"/home/shivam/intern/partition/part-00003-b9624116-91df-4aaa-b88a-04b66e6c4e74-c000.json\"\n",
    "\n",
    "reviews4 = []\n",
    "with open(part3) as p3:\n",
    "    for line in p3:\n",
    "        review = json.loads(line)\n",
    "        reviews4.append(Review(review['reviewText'],review['overint']))"
   ]
  },
  {
   "cell_type": "code",
   "execution_count": 12,
   "metadata": {},
   "outputs": [],
   "source": [
    "import json\n",
    "\n",
    "part4 = \"/home/shivam/intern/partition/part-00004-b9624116-91df-4aaa-b88a-04b66e6c4e74-c000.json\"\n",
    "\n",
    "reviews5 = []\n",
    "with open(part4) as p4:\n",
    "    for line in p4:\n",
    "        review = json.loads(line)\n",
    "        reviews5.append(Review(review['reviewText'],review['overint']))"
   ]
  },
  {
   "cell_type": "code",
   "execution_count": 27,
   "metadata": {},
   "outputs": [
    {
     "data": {
      "text/plain": [
       "\"I can't stress enough how well these thermos koozies work. I own a can-am Maverick UTV and the cup holders in that thing will boil your drink in 5 minutes. Using these koozies I can set a drink in the cup holder inside this koozie and it will keep it nice and cold for a long time. Well worth the money! The only problem I had was that the bottom plastic piece fell off when I dropped it about 6 ' onto concrete, I just put some epoxy on it and it is as good as new.\""
      ]
     },
     "execution_count": 27,
     "metadata": {},
     "output_type": "execute_result"
    }
   ],
   "source": [
    "reviews1[316789].text"
   ]
  },
  {
   "cell_type": "code",
   "execution_count": 43,
   "metadata": {},
   "outputs": [],
   "source": [
    "import json\n",
    "\n",
    "part1 = \"/home/shivam/intern/parts/part-00001-a2397ecf-c83f-49c7-8ad2-d9e042ffeca9-c000.json\"\n",
    "\n",
    "reviews2 = []\n",
    "with open(part1) as p1:\n",
    "    for line in p1:\n",
    "        review = json.loads(line)\n",
    "        reviews2.append(Review(review['reviewText'],review['overint']))"
   ]
  },
  {
   "cell_type": "code",
   "execution_count": 25,
   "metadata": {},
   "outputs": [],
   "source": [
    "import time\n",
    "start_time = time.time()\n",
    "\n",
    "from sklearn.model_selection import train_test_split\n",
    "training,test = train_test_split(reviews5,test_size = 0.25,random_state = 40)\n",
    "\n",
    "train_x = [x.text for x in training]\n",
    "train_y = [x.sentiment for x in training]\n",
    "\n",
    "test_x = [x.text for x in test]\n",
    "test_y = [x.sentiment for x in test]"
   ]
  },
  {
   "cell_type": "code",
   "execution_count": 26,
   "metadata": {},
   "outputs": [],
   "source": [
    "from sklearn.feature_extraction.text import CountVectorizer\n",
    "vectorizer = CountVectorizer()\n",
    "train_x_vectors = vectorizer.fit_transform(train_x)\n",
    "test_x_vectors = vectorizer.transform(test_x)"
   ]
  },
  {
   "cell_type": "code",
   "execution_count": 27,
   "metadata": {},
   "outputs": [
    {
     "name": "stdout",
     "output_type": "stream",
     "text": [
      "['Positive' 'Positive' 'Positive' ... 'Positive' 'Positive' 'Positive']\n",
      "--- 8.766600608825684 seconds ---\n"
     ]
    }
   ],
   "source": [
    "from sklearn.ensemble import RandomForestClassifier\n",
    "clf_dec = RandomForestClassifier()\n",
    "clf_dec.fit(train_x_vectors,train_y)\n",
    "x = clf_dec.predict(test_x_vectors)\n",
    "print(x)\n",
    "#from sklearn.linear_model import LogisticRegression\n",
    "#clf_lg = LogisticRegression()\n",
    "#clf_lg.fit(train_x_vectors,train_y)\n",
    "#clf_lg.predict(test_x_vectors)\n",
    "\n",
    "end_time = time.time()\n",
    "\n",
    "print(\"--- %s seconds ---\" % (end_time - start_time))"
   ]
  },
  {
   "cell_type": "code",
   "execution_count": 42,
   "metadata": {},
   "outputs": [
    {
     "data": {
      "text/plain": [
       "(91624, 81755)"
      ]
     },
     "execution_count": 42,
     "metadata": {},
     "output_type": "execute_result"
    }
   ],
   "source": [
    "#train_x_vectors.shape\n",
    "len(train_y)\n",
    "test_x_vectors.shape"
   ]
  }
 ],
 "metadata": {
  "kernelspec": {
   "display_name": "Python 3",
   "language": "python",
   "name": "python3"
  },
  "language_info": {
   "codemirror_mode": {
    "name": "ipython",
    "version": 3
   },
   "file_extension": ".py",
   "mimetype": "text/x-python",
   "name": "python",
   "nbconvert_exporter": "python",
   "pygments_lexer": "ipython3",
   "version": "3.7.6"
  }
 },
 "nbformat": 4,
 "nbformat_minor": 4
}
